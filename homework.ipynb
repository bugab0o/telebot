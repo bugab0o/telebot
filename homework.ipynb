{
 "cells": [
  {
   "cell_type": "markdown",
   "metadata": {},
   "source": [
    "Домашнее задание к занятию 1. Знакомство с Python"
   ]
  },
  {
   "cell_type": "markdown",
   "metadata": {},
   "source": [
    "1. Напишите программу, которая последовательно запрашивает у пользователя Дату и Описание задачи, а затем выводит их через пробел.\n",
    "2. Модифицируйте программу из задания 1 таким образом, чтобы запрос даты и задачи выполнялся трижды и после этого результаты выводились на экран построчно в формате: на одной строчке дата и задача через пробел.\n",
    "3. Модифицируйте программу из задания 2 таким образом, чтобы данные не выводились на экран, а сохранялись в словарь. Ключами в этом словаре должны быть даты, а значениями - соответствующие им задачи."
   ]
  },
  {
   "cell_type": "code",
   "execution_count": 2,
   "metadata": {},
   "outputs": [
    {
     "data": {
      "text/plain": [
       "{'сегодн': 'сделать чтото', 'сегодня': 'сделать', '': ''}"
      ]
     },
     "metadata": {},
     "output_type": "display_data"
    }
   ],
   "source": [
    "date, task = input(\"Введите дату: \"), input(\"Введите задачу: \")\n",
    "date1, task1 = input(\"Введите дату: \"), input(\"Введите задачу: \")\n",
    "date2, task2 = input(\"Введите дату: \"), input(\"Введите задачу: \")\n",
    "\n",
    "\n",
    "todolist = {date : task, \n",
    "            date1 : task1, \n",
    "            date2 : task2\n",
    "            }\n",
    "\n",
    "\n",
    "display(todolist)"
   ]
  },
  {
   "cell_type": "markdown",
   "metadata": {},
   "source": [
    "Домашнее задание к занятию 2. Первая программа"
   ]
  },
  {
   "cell_type": "markdown",
   "metadata": {},
   "source": [
    "1. Модифицируйте программу, написанную на занятии так, чтобы выход из нее осуществлялся не только при вводе неизвестной команды, но и при вводе специальной команды exit. Сделайте так, чтобы при вводе этой команды программа выводила на экран текст: \"Спасибо за использование! До свидания!\"\n",
    "2. Давайте усложним нашу программу. Сделайте следующие изменения:\n",
    "\n",
    "    - Заведите 3 списка: today, tomorrow, other (вы можете назвать переменные по-другому).\n",
    "    - Измените блок кода, который выполняет команду add:\n",
    "    - Дополнительно запросите у пользователя дату выполнения задачи.\n",
    "    - В зависимости от введенной даты добавьте задачу в один из списков по следующим правилам:\n",
    "    - Если пользователь ввел \"Сегодня\", добавьте задачу в список today.\n",
    "    - Если пользователь ввел \"Завтра\", добавьте задачу в список tomorrow.\n",
    "    - Если пользователь ввел любое другое значение, добавьте задачу в список other.\n"
   ]
  },
  {
   "cell_type": "code",
   "execution_count": 3,
   "metadata": {},
   "outputs": [
    {
     "name": "stdout",
     "output_type": "stream",
     "text": [
      "Задача добавлена\n",
      "Задача добавлена\n",
      "Задача добавлена\n",
      "Какой день?\n",
      "['Помыть пол']\n",
      "Какой день?\n",
      "['Сделать уроки']\n",
      "Какой день?\n",
      "['Помыть посуду']\n",
      "Неизвестная команда\n"
     ]
    }
   ],
   "source": [
    "HELP = \"\"\"\n",
    "help - напечатать справку по программе.\n",
    "add  - добавить задачу в список (название задачи запрашиваем у пользователя).\n",
    "show - напечатать все добавленные задачи\n",
    "exit - выход\n",
    "\"\"\"\n",
    "\n",
    "today = []\n",
    "tommorow = [] \n",
    "other = []\n",
    "\n",
    "\n",
    "while True:\n",
    "    command = input(\"Введите команду:\\n\")\n",
    "    if command == \"help\":\n",
    "        print(HELP)\n",
    "    elif command == \"show\":\n",
    "        print(\"Какой день?\")\n",
    "        day = input()\n",
    "        if day == \"Сегодня\":\n",
    "            print(today)\n",
    "        elif day == \"Завтра\":\n",
    "            print(tommorow)\n",
    "        elif day != \"Сегодня\" and \"Завтра\":\n",
    "            print(other)\n",
    "    elif command == \"add\":\n",
    "        task = input(\"Введите название задачи:\\n\")\n",
    "        date = input(\"Введите день (дату):\\n\")\n",
    "        if date == \"Сегодня\": today.append(task)\n",
    "        elif date == \"Завтра\": tommorow.append(task)\n",
    "        else: other.append(task)\n",
    "        print(\"Задача добавлена\")\n",
    "    elif command == \"exit\":\n",
    "        print(\"Спасибо за использование! До свидания!\")\n",
    "        break\n",
    "    elif command not in HELP:\n",
    "        print(\"Неизвестная команда\")\n",
    "        break  # или run = False\n",
    "    "
   ]
  },
  {
   "cell_type": "markdown",
   "metadata": {},
   "source": []
  },
  {
   "cell_type": "code",
   "execution_count": 10,
   "metadata": {},
   "outputs": [
    {
     "name": "stdout",
     "output_type": "stream",
     "text": [
      "a =  3\n",
      "b =  5\n"
     ]
    },
    {
     "data": {
      "text/plain": [
       "15"
      ]
     },
     "metadata": {},
     "output_type": "display_data"
    },
    {
     "name": "stdout",
     "output_type": "stream",
     "text": [
      "a =  7\n",
      "b =  5\n"
     ]
    },
    {
     "data": {
      "text/plain": [
       "35"
      ]
     },
     "metadata": {},
     "output_type": "display_data"
    },
    {
     "name": "stdout",
     "output_type": "stream",
     "text": [
      "a =  3\n",
      "b =  518\n"
     ]
    },
    {
     "data": {
      "text/plain": [
       "1554"
      ]
     },
     "metadata": {},
     "output_type": "display_data"
    }
   ],
   "source": [
    "def multiply(a, b):\n",
    "  print(\"a = \", a)\n",
    "  print(\"b = \", b)\n",
    "  result = a * b \n",
    "  return result\n",
    "\n",
    "c = multiply(3, 5)\n",
    "display(c)\n",
    "c = multiply(7, 5)\n",
    "display(c)\n",
    "c = multiply(3, 518)\n",
    "display(c)"
   ]
  },
  {
   "cell_type": "code",
   "execution_count": 11,
   "metadata": {},
   "outputs": [
    {
     "name": "stdout",
     "output_type": "stream",
     "text": [
      "Hello\n",
      "World\n",
      "Hello\n",
      "World\n"
     ]
    }
   ],
   "source": [
    "def print_hello():\n",
    "    print(\"Hello\")\n",
    "    print(\"World\")\n",
    "\n",
    "print_hello()\n",
    "print_hello()\n"
   ]
  },
  {
   "cell_type": "code",
   "execution_count": null,
   "metadata": {},
   "outputs": [],
   "source": []
  }
 ],
 "metadata": {
  "kernelspec": {
   "display_name": "base",
   "language": "python",
   "name": "python3"
  },
  "language_info": {
   "codemirror_mode": {
    "name": "ipython",
    "version": 3
   },
   "file_extension": ".py",
   "mimetype": "text/x-python",
   "name": "python",
   "nbconvert_exporter": "python",
   "pygments_lexer": "ipython3",
   "version": "3.11.3"
  }
 },
 "nbformat": 4,
 "nbformat_minor": 2
}
